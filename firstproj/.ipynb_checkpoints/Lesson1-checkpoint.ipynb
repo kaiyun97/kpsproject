{
  "cells": [
    {
      "cell_type": "markdown",
      "id": "e13af526",
      "metadata": {
        "id": "e13af526"
      },
      "source": [
        "# Lesson 1 輸出 資料型態 變數宣告"
      ]
    },
    {
      "cell_type": "markdown",
      "id": "0e25fbbb",
      "metadata": {
        "id": "0e25fbbb"
      },
      "source": [
        "### 1.1 comments 註解"
      ]
    },
    {
      "cell_type": "markdown",
      "id": "4363e80e",
      "metadata": {
        "id": "4363e80e"
      },
      "source": [
        "單行註解"
      ]
    },
    {
      "cell_type": "code",
      "execution_count": null,
      "id": "5d1359c8",
      "metadata": {
        "id": "5d1359c8"
      },
      "outputs": [],
      "source": [
        "#我想在程式碼中加入筆記\n",
        "#這是單行註解"
      ]
    },
    {
      "cell_type": "markdown",
      "id": "d1cbf05e",
      "metadata": {
        "id": "d1cbf05e"
      },
      "source": [
        "多行註解"
      ]
    },
    {
      "cell_type": "code",
      "execution_count": null,
      "id": "89ad701d",
      "metadata": {
        "id": "89ad701d",
        "outputId": "227d6b58-5077-4a1d-878a-16093ea2bb72"
      },
      "outputs": [
        {
          "data": {
            "text/plain": [
              "'\\n這也是\\n多行註解cccc\\n'"
            ]
          },
          "execution_count": 8,
          "metadata": {},
          "output_type": "execute_result"
        }
      ],
      "source": [
        "\"\"\"\n",
        "這是aaaa\n",
        "多行註解\n",
        "\"\"\"\n",
        "'''\n",
        "這也是\n",
        "多行註解cccc\n",
        "'''"
      ]
    },
    {
      "cell_type": "markdown",
      "id": "11d1b77d",
      "metadata": {
        "id": "11d1b77d"
      },
      "source": [
        "### 1.2 data types 資料型態"
      ]
    },
    {
      "cell_type": "markdown",
      "id": "fc1e9679",
      "metadata": {
        "id": "fc1e9679"
      },
      "source": [
        "#### 1.2.1  Numeric 數字"
      ]
    },
    {
      "cell_type": "markdown",
      "id": "e5b408a0",
      "metadata": {
        "id": "e5b408a0"
      },
      "source": [
        "整數 int"
      ]
    },
    {
      "cell_type": "code",
      "execution_count": null,
      "id": "63036076",
      "metadata": {
        "id": "63036076"
      },
      "outputs": [],
      "source": [
        "a = 1\n",
        "b = -2\n",
        "c = 156456456"
      ]
    },
    {
      "cell_type": "markdown",
      "id": "b5e41dc0",
      "metadata": {
        "id": "b5e41dc0"
      },
      "source": [
        "浮點數(小數) float"
      ]
    },
    {
      "cell_type": "code",
      "execution_count": null,
      "id": "33714c40",
      "metadata": {
        "id": "33714c40"
      },
      "outputs": [],
      "source": [
        "a = 1.0\n",
        "b = -2.5\n",
        "c = 3.14159"
      ]
    },
    {
      "cell_type": "markdown",
      "id": "1e99f436",
      "metadata": {
        "id": "1e99f436"
      },
      "source": [
        "#### 1.2.2  String 字串"
      ]
    },
    {
      "cell_type": "markdown",
      "id": "c1fd93fa",
      "metadata": {
        "id": "c1fd93fa"
      },
      "source": [
        "單引號"
      ]
    },
    {
      "cell_type": "code",
      "execution_count": null,
      "id": "ac5e847f",
      "metadata": {
        "id": "ac5e847f"
      },
      "outputs": [],
      "source": [
        "a = '這是使用單引號的字串'"
      ]
    },
    {
      "cell_type": "markdown",
      "id": "392f47a4",
      "metadata": {
        "id": "392f47a4"
      },
      "source": [
        "雙引號"
      ]
    },
    {
      "cell_type": "code",
      "execution_count": null,
      "id": "373d182a",
      "metadata": {
        "id": "373d182a"
      },
      "outputs": [],
      "source": [
        "a = \"這是使用雙引號的字串\""
      ]
    },
    {
      "cell_type": "markdown",
      "id": "7acff9c1",
      "metadata": {
        "id": "7acff9c1"
      },
      "source": [
        "#### 1.2.3  Boolean 布林值"
      ]
    },
    {
      "cell_type": "markdown",
      "id": "7c633949",
      "metadata": {
        "id": "7c633949"
      },
      "source": [
        "True(真) 判斷敘述為真"
      ]
    },
    {
      "cell_type": "code",
      "execution_count": null,
      "id": "f6e481a1",
      "metadata": {
        "id": "f6e481a1"
      },
      "outputs": [],
      "source": [
        "#判斷: 2和2是否相等\n",
        "#事實: 2和2相等\n",
        "a = True"
      ]
    },
    {
      "cell_type": "markdown",
      "id": "86d01b8f",
      "metadata": {
        "id": "86d01b8f"
      },
      "source": [
        "False(假) 判斷敘述為假"
      ]
    },
    {
      "cell_type": "code",
      "execution_count": null,
      "id": "9f5ec8e3",
      "metadata": {
        "id": "9f5ec8e3"
      },
      "outputs": [],
      "source": [
        "#判斷: 2是否大於5\n",
        "#事實: 2小於5\n",
        "a = False"
      ]
    },
    {
      "cell_type": "markdown",
      "id": "43e3d153",
      "metadata": {
        "id": "43e3d153"
      },
      "source": [
        "### 1.3  Variables 變數"
      ]
    },
    {
      "cell_type": "markdown",
      "id": "dfd069c0",
      "metadata": {
        "id": "dfd069c0"
      },
      "source": [
        "#### 1.3.1變數名稱的命名規則"
      ]
    },
    {
      "cell_type": "markdown",
      "id": "bff4ed84",
      "metadata": {
        "id": "bff4ed84"
      },
      "source": [
        "1.變數開頭只能是英文字母(A-z)或底線(_)"
      ]
    },
    {
      "cell_type": "code",
      "execution_count": null,
      "id": "1819d1b0",
      "metadata": {
        "id": "1819d1b0",
        "outputId": "ff863136-3a12-496b-effe-0a8f630dec57"
      },
      "outputs": [
        {
          "ename": "SyntaxError",
          "evalue": "invalid syntax (1262529686.py, line 3)",
          "output_type": "error",
          "traceback": [
            "\u001b[1;36m  File \u001b[1;32m\"C:\\Users\\terry\\AppData\\Local\\Temp\\ipykernel_19984\\1262529686.py\"\u001b[1;36m, line \u001b[1;32m3\u001b[0m\n\u001b[1;33m    $myvar\u001b[0m\n\u001b[1;37m    ^\u001b[0m\n\u001b[1;31mSyntaxError\u001b[0m\u001b[1;31m:\u001b[0m invalid syntax\n"
          ]
        }
      ],
      "source": [
        "myvar = \"NTUE\"\n",
        "_myvar = \"NTUE\"\n",
        "$myvar"
      ]
    },
    {
      "cell_type": "markdown",
      "id": "df62a494",
      "metadata": {
        "id": "df62a494"
      },
      "source": [
        "2.變數的開頭不能是數字(0-9)"
      ]
    },
    {
      "cell_type": "code",
      "execution_count": null,
      "id": "23b5125e",
      "metadata": {
        "id": "23b5125e",
        "outputId": "4229cfdb-f53a-45fa-81a0-2432b2e6a00e"
      },
      "outputs": [
        {
          "ename": "SyntaxError",
          "evalue": "invalid syntax (663949701.py, line 1)",
          "output_type": "error",
          "traceback": [
            "\u001b[1;36m  File \u001b[1;32m\"C:\\Users\\terry\\AppData\\Local\\Temp\\ipykernel_19984\\663949701.py\"\u001b[1;36m, line \u001b[1;32m1\u001b[0m\n\u001b[1;33m    2myvar = \"NTUE\"\u001b[0m\n\u001b[1;37m     ^\u001b[0m\n\u001b[1;31mSyntaxError\u001b[0m\u001b[1;31m:\u001b[0m invalid syntax\n"
          ]
        }
      ],
      "source": [
        "2myvar = \"NTUE\""
      ]
    },
    {
      "cell_type": "markdown",
      "id": "1f816256",
      "metadata": {
        "id": "1f816256"
      },
      "source": [
        "3.變數名稱只能包含英文字母(A-z)、數字(0-9)或底線(_)"
      ]
    },
    {
      "cell_type": "code",
      "execution_count": null,
      "id": "5ebe68ca",
      "metadata": {
        "id": "5ebe68ca"
      },
      "outputs": [],
      "source": [
        "my_var3 = \"NTUE\""
      ]
    },
    {
      "cell_type": "markdown",
      "id": "c7bc386b",
      "metadata": {
        "id": "c7bc386b"
      },
      "source": [
        "4.變數名稱有分大小寫"
      ]
    },
    {
      "cell_type": "code",
      "execution_count": null,
      "id": "b7af2b9a",
      "metadata": {
        "id": "b7af2b9a"
      },
      "outputs": [],
      "source": [
        "myvar = \"NTUE\"\n",
        "myVar = \"JNTUE\"\n",
        "MYVAR = \"NTUE\""
      ]
    },
    {
      "cell_type": "markdown",
      "id": "232f5e8e",
      "metadata": {
        "id": "232f5e8e"
      },
      "source": [
        "5.變數名稱不可以是python的保留字(if, for, True, False...)"
      ]
    },
    {
      "cell_type": "code",
      "execution_count": null,
      "id": "af292fbe",
      "metadata": {
        "id": "af292fbe",
        "outputId": "daaa421e-4312-48d8-8092-67eba32a7a99"
      },
      "outputs": [
        {
          "ename": "SyntaxError",
          "evalue": "cannot assign to False (1429262388.py, line 1)",
          "output_type": "error",
          "traceback": [
            "\u001b[1;36m  File \u001b[1;32m\"C:\\Users\\terry\\AppData\\Local\\Temp\\ipykernel_19984\\1429262388.py\"\u001b[1;36m, line \u001b[1;32m1\u001b[0m\n\u001b[1;33m    False = 1\u001b[0m\n\u001b[1;37m    ^\u001b[0m\n\u001b[1;31mSyntaxError\u001b[0m\u001b[1;31m:\u001b[0m cannot assign to False\n"
          ]
        }
      ],
      "source": [
        "False = 1"
      ]
    },
    {
      "cell_type": "markdown",
      "id": "8932ea47",
      "metadata": {
        "id": "8932ea47"
      },
      "source": [
        "#### 1.3.2多重變數宣告"
      ]
    },
    {
      "cell_type": "markdown",
      "id": "75848d28",
      "metadata": {
        "id": "75848d28"
      },
      "source": [
        "多重變數賦予【同值】"
      ]
    },
    {
      "cell_type": "code",
      "execution_count": null,
      "id": "31e8bb27",
      "metadata": {
        "id": "31e8bb27",
        "outputId": "4479f8d7-740c-4f93-eb6f-055a81c88ecf"
      },
      "outputs": [
        {
          "name": "stdout",
          "output_type": "stream",
          "text": [
            "John\n",
            "John\n",
            "John\n"
          ]
        }
      ],
      "source": [
        "a = b = c = \"John\"\n",
        "print(a)\n",
        "print(b)\n",
        "print(c)"
      ]
    },
    {
      "cell_type": "markdown",
      "id": "b53218c8",
      "metadata": {
        "id": "b53218c8"
      },
      "source": [
        "多重變數賦予【不同值】"
      ]
    },
    {
      "cell_type": "code",
      "execution_count": null,
      "id": "fd9091e8",
      "metadata": {
        "id": "fd9091e8",
        "outputId": "d795884c-cf83-4002-e851-d60b67e82cc5"
      },
      "outputs": [
        {
          "name": "stdout",
          "output_type": "stream",
          "text": [
            "ntue 112 2023.4\n"
          ]
        },
        {
          "ename": "TypeError",
          "evalue": "can only concatenate str (not \"int\") to str",
          "output_type": "error",
          "traceback": [
            "\u001b[1;31m---------------------------------------------------------------------------\u001b[0m",
            "\u001b[1;31mTypeError\u001b[0m                                 Traceback (most recent call last)",
            "\u001b[1;32m~\\AppData\\Local\\Temp\\ipykernel_19984\\1450599160.py\u001b[0m in \u001b[0;36m<module>\u001b[1;34m\u001b[0m\n\u001b[0;32m      1\u001b[0m \u001b[0ma\u001b[0m\u001b[1;33m,\u001b[0m \u001b[0mb\u001b[0m\u001b[1;33m,\u001b[0m \u001b[0mc\u001b[0m \u001b[1;33m=\u001b[0m \u001b[1;34m\"ntue\"\u001b[0m\u001b[1;33m,\u001b[0m \u001b[1;36m112\u001b[0m\u001b[1;33m,\u001b[0m \u001b[1;36m2023.4\u001b[0m\u001b[1;33m\u001b[0m\u001b[1;33m\u001b[0m\u001b[0m\n\u001b[0;32m      2\u001b[0m \u001b[0mprint\u001b[0m\u001b[1;33m(\u001b[0m\u001b[0ma\u001b[0m\u001b[1;33m,\u001b[0m \u001b[0mb\u001b[0m\u001b[1;33m,\u001b[0m \u001b[0mc\u001b[0m\u001b[1;33m)\u001b[0m\u001b[1;33m\u001b[0m\u001b[1;33m\u001b[0m\u001b[0m\n\u001b[1;32m----> 3\u001b[1;33m \u001b[0mprint\u001b[0m\u001b[1;33m(\u001b[0m\u001b[0ma\u001b[0m \u001b[1;33m+\u001b[0m \u001b[0mb\u001b[0m \u001b[1;33m+\u001b[0m \u001b[0mc\u001b[0m\u001b[1;33m)\u001b[0m\u001b[1;33m\u001b[0m\u001b[1;33m\u001b[0m\u001b[0m\n\u001b[0m",
            "\u001b[1;31mTypeError\u001b[0m: can only concatenate str (not \"int\") to str"
          ]
        }
      ],
      "source": [
        "a, b, c = \"ntue\", 112, 2023.4\n",
        "print(a, b, c)\n",
        "print(a + b + c)"
      ]
    },
    {
      "cell_type": "markdown",
      "id": "434af4c3",
      "metadata": {
        "id": "434af4c3"
      },
      "source": [
        "#### 1.3.3 type casting 資料型態轉換"
      ]
    },
    {
      "cell_type": "markdown",
      "id": "e27b50fa",
      "metadata": {
        "id": "e27b50fa"
      },
      "source": [
        "type() 函式(可以查看變數的資料型態)"
      ]
    },
    {
      "cell_type": "code",
      "execution_count": null,
      "id": "967f29d7",
      "metadata": {
        "id": "967f29d7",
        "outputId": "e06179c2-0b24-4a76-8056-4182068850ad"
      },
      "outputs": [
        {
          "name": "stdout",
          "output_type": "stream",
          "text": [
            "<class 'str'>\n",
            "<class 'int'>\n",
            "<class 'float'>\n",
            "ntue1122023.4\n"
          ]
        }
      ],
      "source": [
        "print(type(a))\n",
        "print(type(b))\n",
        "print(type(c))\n",
        "print(a + str(b) + str(c))"
      ]
    },
    {
      "cell_type": "markdown",
      "id": "1c14436f",
      "metadata": {
        "id": "1c14436f"
      },
      "source": [
        "int() 函式(可以將字串轉換成整數)"
      ]
    },
    {
      "cell_type": "code",
      "execution_count": null,
      "id": "a42df2b2",
      "metadata": {
        "id": "a42df2b2",
        "outputId": "b398ecb5-9e5e-49b3-ab77-da9364b73dbf"
      },
      "outputs": [
        {
          "name": "stdout",
          "output_type": "stream",
          "text": [
            "<class 'str'>\n",
            "<class 'int'>\n"
          ]
        }
      ],
      "source": [
        "a = \"123\"\n",
        "print(type(a))\n",
        "a = int(a)\n",
        "print(type(a))"
      ]
    },
    {
      "cell_type": "markdown",
      "id": "5790b535",
      "metadata": {
        "id": "5790b535"
      },
      "source": [
        "float() 函式(可以將字串轉換成浮點數)"
      ]
    },
    {
      "cell_type": "code",
      "execution_count": null,
      "id": "45f5360b",
      "metadata": {
        "id": "45f5360b",
        "outputId": "1324503c-4410-4b4e-c801-2b0a1f1f435d"
      },
      "outputs": [
        {
          "name": "stdout",
          "output_type": "stream",
          "text": [
            "<class 'str'>\n",
            "<class 'float'>\n"
          ]
        }
      ],
      "source": [
        "a = \"123.4\"\n",
        "print(type(a))\n",
        "a = float(a)\n",
        "print(type(a))"
      ]
    },
    {
      "cell_type": "markdown",
      "id": "6023f5ce",
      "metadata": {
        "id": "6023f5ce"
      },
      "source": [
        "str() 函式(可以將整數或浮點數轉換成字串)"
      ]
    },
    {
      "cell_type": "code",
      "execution_count": null,
      "id": "8a91df6c",
      "metadata": {
        "id": "8a91df6c",
        "outputId": "65d54e0e-549b-45da-93aa-74570a99994e"
      },
      "outputs": [
        {
          "name": "stdout",
          "output_type": "stream",
          "text": [
            "<class 'int'>\n",
            "<class 'str'>\n"
          ]
        }
      ],
      "source": [
        "a = 123\n",
        "print(type(a))\n",
        "a = str(a)\n",
        "print(type(a))"
      ]
    },
    {
      "cell_type": "markdown",
      "id": "715a4860",
      "metadata": {
        "id": "715a4860"
      },
      "source": [
        "## 練習"
      ]
    },
    {
      "cell_type": "markdown",
      "id": "07d0bd66",
      "metadata": {
        "id": "07d0bd66"
      },
      "source": [
        "宣告3個變數分別為\n",
        "1.學校(字串)\n",
        "2.年齡(整數)\n",
        "3.身高(浮點數)\n",
        "使用print()且用+號字串相接的方式印出自我介紹\n",
        "Ex.我來自國北教大，今年20歲、身高180.5公分，請多指教!"
      ]
    }
  ],
  "metadata": {
    "kernelspec": {
      "display_name": "Python 3 (ipykernel)",
      "language": "python",
      "name": "python3"
    },
    "language_info": {
      "codemirror_mode": {
        "name": "ipython",
        "version": 3
      },
      "file_extension": ".py",
      "mimetype": "text/x-python",
      "name": "python",
      "nbconvert_exporter": "python",
      "pygments_lexer": "ipython3",
      "version": "3.9.13"
    },
    "colab": {
      "provenance": []
    }
  },
  "nbformat": 4,
  "nbformat_minor": 5
}
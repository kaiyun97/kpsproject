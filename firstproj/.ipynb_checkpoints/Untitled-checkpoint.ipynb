{
 "cells": [
  {
   "cell_type": "markdown",
   "id": "273f4d28-29ac-4bc8-87df-ad2e240a1b15",
   "metadata": {},
   "source": [
    "Lesson 2 輸出 資料型態 變數宣告"
   ]
  },
  {
   "cell_type": "code",
   "execution_count": null,
   "id": "7afb5d17-9c68-40f1-bc4d-5786790887c9",
   "metadata": {},
   "outputs": [],
   "source": []
  }
 ],
 "metadata": {
  "kernelspec": {
   "display_name": "Python 3 (ipykernel)",
   "language": "python",
   "name": "python3"
  },
  "language_info": {
   "codemirror_mode": {
    "name": "ipython",
    "version": 3
   },
   "file_extension": ".py",
   "mimetype": "text/x-python",
   "name": "python",
   "nbconvert_exporter": "python",
   "pygments_lexer": "ipython3",
   "version": "3.10.9"
  }
 },
 "nbformat": 4,
 "nbformat_minor": 5
}
